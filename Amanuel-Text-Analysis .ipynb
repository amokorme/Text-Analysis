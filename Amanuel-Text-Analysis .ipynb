{
 "cells": [
  {
   "cell_type": "code",
   "execution_count": 36,
   "id": "87035da2",
   "metadata": {},
   "outputs": [
    {
     "name": "stdout",
     "output_type": "stream",
     "text": [
      "Requirement already satisfied: nltk in /opt/anaconda3/lib/python3.9/site-packages (3.6.5)\n",
      "Requirement already satisfied: click in /opt/anaconda3/lib/python3.9/site-packages (from nltk) (8.0.3)\n",
      "Requirement already satisfied: joblib in /opt/anaconda3/lib/python3.9/site-packages (from nltk) (1.1.0)\n",
      "Requirement already satisfied: regex>=2021.8.3 in /opt/anaconda3/lib/python3.9/site-packages (from nltk) (2021.8.3)\n",
      "Requirement already satisfied: tqdm in /opt/anaconda3/lib/python3.9/site-packages (from nltk) (4.62.3)\n",
      "Requirement already satisfied: matplotlib in /opt/anaconda3/lib/python3.9/site-packages (3.4.3)\n",
      "Requirement already satisfied: python-dateutil>=2.7 in /opt/anaconda3/lib/python3.9/site-packages (from matplotlib) (2.8.2)\n",
      "Requirement already satisfied: pyparsing>=2.2.1 in /opt/anaconda3/lib/python3.9/site-packages (from matplotlib) (3.0.4)\n",
      "Requirement already satisfied: pillow>=6.2.0 in /opt/anaconda3/lib/python3.9/site-packages (from matplotlib) (8.4.0)\n",
      "Requirement already satisfied: kiwisolver>=1.0.1 in /opt/anaconda3/lib/python3.9/site-packages (from matplotlib) (1.3.1)\n",
      "Requirement already satisfied: cycler>=0.10 in /opt/anaconda3/lib/python3.9/site-packages (from matplotlib) (0.10.0)\n",
      "Requirement already satisfied: numpy>=1.16 in /opt/anaconda3/lib/python3.9/site-packages (from matplotlib) (1.20.3)\n",
      "Requirement already satisfied: six in /opt/anaconda3/lib/python3.9/site-packages (from cycler>=0.10->matplotlib) (1.16.0)\n"
     ]
    },
    {
     "name": "stderr",
     "output_type": "stream",
     "text": [
      "[nltk_data] Downloading package stopwords to\n",
      "[nltk_data]     /Users/amanuelteferi/nltk_data...\n",
      "[nltk_data]   Package stopwords is already up-to-date!\n",
      "[nltk_data] Downloading package wordnet to\n",
      "[nltk_data]     /Users/amanuelteferi/nltk_data...\n",
      "[nltk_data]   Package wordnet is already up-to-date!\n",
      "[nltk_data] Downloading package omw-1.4 to\n",
      "[nltk_data]     /Users/amanuelteferi/nltk_data...\n",
      "[nltk_data]   Package omw-1.4 is already up-to-date!\n"
     ]
    },
    {
     "data": {
      "text/plain": [
       "True"
      ]
     },
     "execution_count": 36,
     "metadata": {},
     "output_type": "execute_result"
    }
   ],
   "source": [
    "#Here we install the nltk package onto the Try Jupyter environment. This needs to be run every time you load in the code.\n",
    "import sys\n",
    "!{sys.executable} -m pip install nltk\n",
    "!{sys.executable} -m pip install matplotlib\n",
    "\n",
    "import string\n",
    "import nltk #This is a bit redundant, but necessary for the Try Jupyter environment.\n",
    "import matplotlib.pyplot as plt\n",
    "from nltk.corpus import stopwords\n",
    "from nltk.stem.wordnet import WordNetLemmatizer\n",
    "nltk.download('stopwords')\n",
    "nltk.download('wordnet')\n",
    "nltk.download('omw-1.4')"
   ]
  },
  {
   "cell_type": "code",
   "execution_count": 37,
   "id": "33a2c9e4",
   "metadata": {},
   "outputs": [],
   "source": [
    "#Here we load in the file based on the filename.\n",
    "#If the filename doesn't exist, the program exits.\n",
    "\n",
    "#Change this line to whatever string you want.\n",
    "# Amanuel: File names are edited for each text file \n",
    "filename = 'boa2000.txt'\n",
    "\n",
    "try:\n",
    "    file = open(filename)\n",
    "except:\n",
    "    print('File cannot be opened: ', filename)"
   ]
  },
  {
   "cell_type": "code",
   "execution_count": 38,
   "id": "b742c2eb",
   "metadata": {},
   "outputs": [],
   "source": [
    "#Here we load in the stopwords from the downloaded nltk stopwords list.\n",
    "lmtzr = WordNetLemmatizer()\n",
    "stop = stopwords.words('english')\n",
    "# Amanuel is stopping the following words, they are unwanted for the analysis. \n",
    "stop.append(\"america\")\n",
    "stop.append(\"bank\")\n",
    "stop.append(\"2000\")\n",
    "stop.append(\"year\")\n",
    "stop.append (\"us\")"
   ]
  },
  {
   "cell_type": "code",
   "execution_count": 39,
   "id": "bf0e968f",
   "metadata": {},
   "outputs": [],
   "source": [
    "#TODO: FILL IN THE FOLLOWING FUNCTIONS\n",
    "def sort_and_reverse(lst):\n",
    "    '''Given some list, we want to first sort it and then reverse it after. Here the order is important!\n",
    "    The code should be only one or two lines given the following two list functions:\n",
    "    https://www.w3schools.com/python/ref_list_sort.asp\n",
    "    https://www.programiz.com/python-programming/methods/list/reverse\n",
    "   \n",
    "    NOTE: These functions do not actually return another list, they instead modify the list being passed into our argument.\n",
    "    So we do not need to return anything for this function'''\n",
    "    \n",
    "    #SOLUTION GOES HERE \n",
    "    counts=[]\n",
    "    counts = dict()\n",
    "    word_list = [(counts[w], w) for w in counts]\n",
    "    word_list.sort(reverse=True)"
   ]
  },
  {
   "cell_type": "code",
   "execution_count": 40,
   "id": "b6ea441d",
   "metadata": {},
   "outputs": [],
   "source": [
    "#This function graphs the words we choose onto a bar graph and adjusts the labels.\n",
    "def graph_words(wordlist, N):\n",
    "    words=[]\n",
    "    counts=[]\n",
    "    for x, word in wordlist[:N]:\n",
    "        words.append(word)\n",
    "        counts.append(x)\n",
    "    fig, ax = plt.subplots()\n",
    "    ax.bar(words, counts)\n",
    "    fig.autofmt_xdate()\n",
    "    plt.show()"
   ]
  },
  {
   "cell_type": "code",
   "execution_count": 41,
   "id": "b60cb562",
   "metadata": {},
   "outputs": [
    {
     "name": "stdout",
     "output_type": "stream",
     "text": [
      "The 15 most frequent words are\n",
      "Rank\tCount\tWord\n",
      " 1\t  25\tcustomer\n",
      " 2\t  24\tcompany\n",
      " 3\t  16\tbusiness\n",
      " 4\t  14\tservice\n",
      " 5\t  11\tfinancial\n",
      " 6\t   9\tgrowth\n",
      " 7\t   8\tstrong\n",
      " 8\t   8\tstrategy\n",
      " 9\t   8\tcredit\n",
      "10\t   8\tbillion\n",
      "11\t   7\tpeople\n",
      "12\t   7\tmarket\n",
      "13\t   7\tlast\n",
      "14\t   7\tcorporate\n",
      "15\t   7\tchallenge\n"
     ]
    },
    {
     "data": {
      "image/png": "[encoded data removed]",
      "text/plain": [
       "<Figure size 432x288 with 1 Axes>"
      ]
     },
     "metadata": {
      "needs_background": "light"
     },
     "output_type": "display_data"
    }
   ],
   "source": [
    "#Takes in the file, stopwords list, and number of important words and returns the most frequent words.\n",
    "def most_frequent_words(file, stop, N):  \n",
    "    #Here we create a dictionary, which we will assign a value to each word corresponding to the number of times this word appears.\n",
    "    counts = dict()\n",
    "\n",
    "    for line in file:\n",
    "        line = line.rstrip()\n",
    "        line = line.translate(line.maketrans('', '', string.punctuation))\n",
    "        line = line.lower()\n",
    "        words = line.split()\n",
    "\n",
    "        #Now processes the words list, and removes the stop words.\n",
    "        for word in words:\n",
    "            if word not in stop:\n",
    "                #Lemmatizing- we group similar word inflections together (e.g. rock and rocks becomes the same word)\n",
    "                word=lmtzr.lemmatize(word)\n",
    "                if word not in counts:\n",
    "                    counts[word] = 1\n",
    "                else:\n",
    "                    counts[word] += 1\n",
    "\n",
    "    #Puts the dictionary of counts into a list.\n",
    "    word_list = [(counts[w], w) for w in counts]\n",
    "    \n",
    "    #THIS IS WHERE WE CALL THE FUNCTION YOU WROTE. Sort and reverse the list.\n",
    "    sort_and_reverse(word_list)\n",
    "    # Amanuel Teferi is sorting list descending and then reversing the list so that the higher Rank comes to top.\n",
    "    word_list.sort(reverse = True)\n",
    "    \n",
    "    #Prints the table of most frequent words\n",
    "    print(\"The \" + str(N) + \" most frequent words are\")\n",
    "    print(\"Rank\\tCount\\tWord\")\n",
    "    i = 1\n",
    "    for x, word in word_list[:N]:\n",
    "        print('%2s\\t%4s\\t%s' %(i, x, word))\n",
    "        i += 1\n",
    "    \n",
    "    #Plot the words.\n",
    "    graph_words(word_list, N)\n",
    "\n",
    "#This fuction currently returns just the top 10 word. \n",
    "#You can fix the arguments you pass in to change the number of words this returns.\n",
    "# Amanuel Teferi is returning only 15 words most frequently occured \n",
    "most_frequent_words(file, stop, 15)"
   ]
  },
  {
   "cell_type": "code",
   "execution_count": 42,
   "id": "ba36391c",
   "metadata": {},
   "outputs": [],
   "source": [
    "# Amanuel Teferi is trying to export result to Excel sheets\n",
    "# The following code is written for each text file to export the result to excel. "
   ]
  },
  {
   "cell_type": "code",
   "execution_count": 43,
   "id": "ee124993",
   "metadata": {},
   "outputs": [],
   "source": [
    "    #import pandas as pd\n",
    "    #import openpyxl as xls\n",
    "    #data = pd.DataFrame({'Ranks':[1,2,3,4,5,6,7,8,9,10,11,12,13,14,15],\n",
    "                        #'Count': [25,24,16,14,11,9,8,8,8,8,7,7,7,7,7],\n",
    "                        #'Word': ['customer','company','business','service','financial','growth','strong','strategy',\n",
    "                                 #'credit','billion','people','market','last','corporate','challenge']})\n",
    "    #data.to_excel('boa2000.xlsx', sheet_name='sheet1', index=False)\n",
    "    #import pandas as pd\n",
    "    #import openpyxl as xls\n",
    "    #data = pd.DataFrame({'Ranks':[1,2,3,4,5,6,7,8,9,10,11,12,13,14,15],\n",
    "                        #'Count': [21,19,14,12,11,11,10,9,9,9,9,8,8,7,7],\n",
    "                        #'Word': ['customer','company','growth','opportunity','new','business','shareholder',\n",
    "                                 #'percent','financial','community','acquisition',\n",
    "                                 #'time','product','year','value']})\n",
    "    #data.to_excel('boa2005.xlsx', sheet_name='sheet1', index=False)\n",
    "    #import pandas as pd\n",
    "    #import openpyxl as xls\n",
    "    #data = pd.DataFrame({'Ranks':[1,2,3,4,5,6,7,8,9,10,11,12,13,14,15],\n",
    "                        #'Count': [35,24,18,16,15,14,14,12,12,11,10,10,9,9,9],\n",
    "                        #'Word': ['customer','business','company','management','service','strategy','financial','work','shareholder',\n",
    "                                 #,'client','service',\n",
    "                                 #'capital','vision','value','issue']})\n",
    "    #data.to_excel('boa2010.xlsx', sheet_name='sheet1', index=False)\n",
    "    #import pandas as pd\n",
    "    #import openpyxl as xls\n",
    "    #data = pd.DataFrame({'Ranks':[1,2,3,4,5,6,7,8,9,10,11,12,13,14,15],\n",
    "                        #'Count': [21,18,17,14,12,11,11,10,9,9,8,7,7,7,7],\n",
    "                        #'Word': ['company','billion','customer','business','shareholder','management','growth',\n",
    "                                 #'grow','serve','percent','strategy',\n",
    "                                 #'financial','deposit','capital','board']})\n",
    "    #data.to_excel('boa2015.xlsx', sheet_name='sheet1', index=False)\n",
    "    #import pandas as pd\n",
    "    #import openpyxl as xls\n",
    "    #data = pd.DataFrame({'Ranks':[1,2,3,4,5,6,7,8,9,10,11,12,13,14,15],\n",
    "                        #'Count': [64,35,31,28,28,27,25,25,20,20,20,19,18,17,17],\n",
    "                        #'Word': ['client','billion','teammate','community','business','company','market','help',\n",
    "                                 #'work','team','million','investment','growth','support','progress']})\n",
    "    #data.to_excel('boa2020.xlsx', sheet_name='sheet1', index=False)"
   ]
  },
  {
   "cell_type": "code",
   "execution_count": 44,
   "id": "3c2e5fa9",
   "metadata": {},
   "outputs": [],
   "source": [
    "# End of script "
   ]
  }
 ],
 "metadata": {
  "kernelspec": {
   "display_name": "Python 3 (ipykernel)",
   "language": "python",
   "name": "python3"
  },
  "language_info": {
   "codemirror_mode": {
    "name": "ipython",
    "version": 3
   },
   "file_extension": ".py",
   "mimetype": "text/x-python",
   "name": "python",
   "nbconvert_exporter": "python",
   "pygments_lexer": "ipython3",
   "version": "3.9.7"
  }
 },
 "nbformat": 4,
 "nbformat_minor": 5
}
